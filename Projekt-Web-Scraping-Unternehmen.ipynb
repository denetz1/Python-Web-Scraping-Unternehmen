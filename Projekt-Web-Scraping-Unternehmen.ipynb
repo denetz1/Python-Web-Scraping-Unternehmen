{
 "cells": [
  {
   "cell_type": "markdown",
   "id": "78a2c56b-ba79-444b-8f6c-7ad94d3ddc78",
   "metadata": {},
   "source": [
    "# Projekt: Web-Scraping von einer realen Webseite"
   ]
  },
  {
   "cell_type": "markdown",
   "id": "ae9d6c4d-36a8-4b2b-96b9-8ee7e4f75f3d",
   "metadata": {},
   "source": [
    "## Ziel des Projekts: \n",
    "Ich möchte in diesem Projekt eine Tabelle von einer Wikipedia-Seite nehmen und diese in ein Pandas DataFrame konvertieren. \n",
    "Zum Schluss möchte ich das DataFrame abspeichern und in einer CSV-Datei auf meinem lokalen Computer ablegen"
   ]
  },
  {
   "cell_type": "markdown",
   "id": "7cd4b12b-60be-4f31-8afe-0c2fc79bc846",
   "metadata": {},
   "source": [
    "## Vorbereitung: Import der benötigten Packages:\n",
    "- BeautifulSoup wird genutzt um HTML zu parsen <br>\n",
    "- Pandas um ein später ein DataFrame zu erstellen<br>\n",
    "- Requests um Webseiten aufzurufen<br>"
   ]
  },
  {
   "cell_type": "code",
   "execution_count": 295,
   "id": "da32d454-177e-483c-9880-8f4dbc926d70",
   "metadata": {},
   "outputs": [],
   "source": [
    "from bs4 import BeautifulSoup\n",
    "import pandas as pd\n",
    "import requests"
   ]
  },
  {
   "cell_type": "markdown",
   "id": "c05ec50d-1e5a-450d-9bf9-b3087884315c",
   "metadata": {},
   "source": [
    "## Schritt 1: Tabellenüberschriften in ein DataFrame übertragen\n",
    "Als nächstes definiere ich die URL der Webseite, von der ich die Tabelle nehmen und in ein DataFrame konvertieren möchte. <br>\n",
    "Anschließend öffne ich die Webseite mir \"request\" <br>\n",
    "Und parse den HTML Code mithilfe von BeautifulSoup. "
   ]
  },
  {
   "cell_type": "code",
   "execution_count": 298,
   "id": "9e2cb689-2f70-41c7-b2f0-ee2c8e360d04",
   "metadata": {},
   "outputs": [],
   "source": [
    "url = \"https://en.wikipedia.org/wiki/List_of_largest_companies_in_the_United_States_by_revenue\"\n",
    "website = requests.get(url)\n",
    "soup = BeautifulSoup(website.text, \"html\")"
   ]
  },
  {
   "cell_type": "markdown",
   "id": "85dab4eb-3788-4d01-8c39-bf51b18bf8b7",
   "metadata": {},
   "source": [
    "Nun suche ich mithilfe den Entwicklertools auf der oben genannten URL nach dem Namen der Tabelle (\"Table Class = \"). <br>\n",
    "Anschließend überprüfe ich mithilfe des \"find\" Befehls, ob ich tatsächlich die gewünschte Tabelle gefunden habe. "
   ]
  },
  {
   "cell_type": "code",
   "execution_count": 330,
   "id": "ae255b33-3a94-4ecc-ac45-5cacb942a7a9",
   "metadata": {
    "scrolled": true
   },
   "outputs": [],
   "source": [
    "# soup.find(\"table\", class_ = \"wikitable sortable\")"
   ]
  },
  {
   "cell_type": "markdown",
   "id": "3f05387b-f277-4b7d-a225-f3b64c337f6a",
   "metadata": {},
   "source": [
    "In diesem Beispiel gibt es mehrere Tabellen auf der Webseite, die den gleichen Namen \"wikitable sortable\" haben. <br>\n",
    "Deswegen definiere ich die gewünschte Tabelle als neue Variable und lege mithilfe eines Index fest, dass ich die erste Tabelle [0] bearbeiten möchte"
   ]
  },
  {
   "cell_type": "code",
   "execution_count": 332,
   "id": "6475adeb-12bb-4ddd-ad62-730d61bada5e",
   "metadata": {},
   "outputs": [],
   "source": [
    "table = soup.find_all(\"table\")[0]\n",
    "# print(table)"
   ]
  },
  {
   "cell_type": "markdown",
   "id": "0dfdbd4a-c050-4948-b8b9-4dc1e149a9ad",
   "metadata": {},
   "source": [
    "Als nächstes möchte ich die Tabellenüberschriften meiner Tabelle raussuchen und in eine neue Variable speichern. <br>\n",
    "Dies lässt sich einfach über die in HTML definierten \"Table Header\" bzw. \"th\" lösen.<br> \n",
    "Die rohen Tabellenüberschriften müssen anschließend noch bereinigt werden."
   ]
  },
  {
   "cell_type": "code",
   "execution_count": 334,
   "id": "c8c91ccb-1729-49a1-adc0-473d768f8aac",
   "metadata": {},
   "outputs": [],
   "source": [
    "table_header_raw = table.find_all(\"th\")\n",
    "# print(table_header)"
   ]
  },
  {
   "cell_type": "code",
   "execution_count": 336,
   "id": "309bb344-06bb-4519-a44a-41ed5654391e",
   "metadata": {},
   "outputs": [],
   "source": [
    "table_header = [header.text.strip() for header in table_header_raw]\n",
    "# print(table_header)"
   ]
  },
  {
   "cell_type": "markdown",
   "id": "7daa3450-6071-4459-b642-1b86edadf5e9",
   "metadata": {},
   "source": [
    "Ich erhalte nun eine Liste mit den jeweiligen Tabellenüberschriften. <br>\n",
    "Diese kann ich nun in das DataFrame übertragen. \n",
    "Als Ergebnis erhalte ich ein leeres DataFrame mit Überschriften."
   ]
  },
  {
   "cell_type": "code",
   "execution_count": 308,
   "id": "8f028373-a3eb-42fb-a1cb-15bf07dff331",
   "metadata": {},
   "outputs": [
    {
     "data": {
      "text/html": [
       "<div>\n",
       "<style scoped>\n",
       "    .dataframe tbody tr th:only-of-type {\n",
       "        vertical-align: middle;\n",
       "    }\n",
       "\n",
       "    .dataframe tbody tr th {\n",
       "        vertical-align: top;\n",
       "    }\n",
       "\n",
       "    .dataframe thead th {\n",
       "        text-align: right;\n",
       "    }\n",
       "</style>\n",
       "<table border=\"1\" class=\"dataframe\">\n",
       "  <thead>\n",
       "    <tr style=\"text-align: right;\">\n",
       "      <th></th>\n",
       "      <th>Rank</th>\n",
       "      <th>Name</th>\n",
       "      <th>Industry</th>\n",
       "      <th>Revenue (USD millions)</th>\n",
       "      <th>Revenue growth</th>\n",
       "      <th>Employees</th>\n",
       "      <th>Headquarters</th>\n",
       "    </tr>\n",
       "  </thead>\n",
       "  <tbody>\n",
       "  </tbody>\n",
       "</table>\n",
       "</div>"
      ],
      "text/plain": [
       "Empty DataFrame\n",
       "Columns: [Rank, Name, Industry, Revenue (USD millions), Revenue growth, Employees, Headquarters]\n",
       "Index: []"
      ]
     },
     "execution_count": 308,
     "metadata": {},
     "output_type": "execute_result"
    }
   ],
   "source": [
    "df = pd.DataFrame(columns = world_table_titles)\n",
    "df"
   ]
  },
  {
   "cell_type": "markdown",
   "id": "fb6e237d-083d-4b31-b7b5-2e0c474d3152",
   "metadata": {},
   "source": [
    "## Schritt 2: Das Dataframe mit den jewieligen Einträgen vervollständigen: \n",
    "So wie ich die Überschriften mit den Tabellenüberschriften herausgefiltert habe, kann ich die einzelnen Zeilen der Tabelle mit \"Table Rows\" bzw. \"tr\" herausfiltern. \n",
    "Ich möchte hier auch wieder eine Liste erhalten, die ich in einer Variable abspeichere. \n",
    "Mit dem nachfolgenden Code erhalte ich eine Liste in der jeder Listeneintrag von \"tr\" bis \"/tr\" reicht und somit einer Zeile der Tabelle entspricht."
   ]
  },
  {
   "cell_type": "code",
   "execution_count": 338,
   "id": "345e3159-2b45-48f8-bda1-03f8fbf79953",
   "metadata": {
    "scrolled": true
   },
   "outputs": [],
   "source": [
    "table_rows = table.find_all(\"tr\")\n",
    "# print(column_data)"
   ]
  },
  {
   "cell_type": "markdown",
   "id": "5a317cd8-3ef6-4478-9499-b6bbb42efa32",
   "metadata": {},
   "source": [
    "Nun kann ich wieder mithilfe einer Schleife die Gesamte Liste mit den Zeilen (wobei jedes Listenelement einer Zeile in der Tabelle entspricht) durchgehen und so eine neue Liste erstellen (raw_row_data) in der im ersten Durchlauf jedes Listenelement einem einzelnen Eintrag der ersten Zeile entspricht usw. Die einzelnen Tabelleneinträge lassen sich mit \"table data\" bzw. \"td\" identifizieren.<br>\n",
    "<br>\n",
    "Die Listen, die in \"raw_row_data\" erstellt werden beinhalten noch HTML code, der in der Nachfolgenden Schleife bereinigt wird und in \"row_data\" abgespeichert wird.<br>\n",
    "<br>\n",
    "Da die Schleife die Listen immer wieder überspeichert, bis sie am Ende angekommen ist, kann ich in den Schleifen-Befehl hinzufügen, dass nach jedem Durchlauf die row_data im DataFrame abgespeichert wird. Dies kann ich mithilfe der len-, und loc-Funktion lösen. "
   ]
  },
  {
   "cell_type": "code",
   "execution_count": 316,
   "id": "4cfecd37-fde6-42dc-9cb3-472600389a17",
   "metadata": {},
   "outputs": [],
   "source": [
    "for row in table_rows[1:]:\n",
    "    raw_row_data = row.find_all(\"td\")\n",
    "    row_data = [data.text.strip() for data in raw_row_data]\n",
    "\n",
    "    lenght = len(df)\n",
    "    df.loc[lenght] = row_data"
   ]
  },
  {
   "cell_type": "code",
   "execution_count": 340,
   "id": "c26164d2-f5e8-4d04-9d0f-3aac88fcf3ae",
   "metadata": {},
   "outputs": [
    {
     "name": "stdout",
     "output_type": "stream",
     "text": [
      "[<td>100\n",
      "</td>, <td><a href=\"/wiki/Best_Buy\" title=\"Best Buy\">Best Buy</a>\n",
      "</td>, <td>Retail\n",
      "</td>, <td style=\"text-align:center;\">43,452\n",
      "</td>, <td style=\"text-align:center;\"><span typeof=\"mw:File\"><span title=\"Decrease\"><img alt=\"Decrease\" class=\"mw-file-element\" data-file-height=\"300\" data-file-width=\"300\" decoding=\"async\" height=\"11\" src=\"//upload.wikimedia.org/wikipedia/commons/thumb/e/ed/Decrease2.svg/11px-Decrease2.svg.png\" srcset=\"//upload.wikimedia.org/wikipedia/commons/thumb/e/ed/Decrease2.svg/17px-Decrease2.svg.png 1.5x, //upload.wikimedia.org/wikipedia/commons/thumb/e/ed/Decrease2.svg/22px-Decrease2.svg.png 2x\" width=\"11\"/></span></span> <span data-sort-value=\"2999450000000000000♠\" style=\"display:none\"></span> -6.1%\n",
      "</td>, <td style=\"text-align:center;\">85,000\n",
      "</td>, <td><a href=\"/wiki/Richfield,_Minnesota\" title=\"Richfield, Minnesota\">Richfield, Minnesota</a>\n",
      "</td>]\n",
      "['100', 'Best Buy', 'Retail', '43,452', '-6.1%', '85,000', 'Richfield, Minnesota']\n"
     ]
    }
   ],
   "source": [
    "# Zum besseren Nachvollziehen: \n",
    "print(raw_row_data)\n",
    "print(row_data)"
   ]
  },
  {
   "cell_type": "markdown",
   "id": "a3125460-f57a-4017-951b-5356caff7b61",
   "metadata": {},
   "source": [
    "## Schritt 3: Finalisierung und Abspeichern als CSV-Datei\n",
    "Ich erhalte somit folgendes DataFrame:"
   ]
  },
  {
   "cell_type": "code",
   "execution_count": 342,
   "id": "de040bf2-b7f5-45f1-bb66-88ecf20a5050",
   "metadata": {},
   "outputs": [
    {
     "data": {
      "text/html": [
       "<div>\n",
       "<style scoped>\n",
       "    .dataframe tbody tr th:only-of-type {\n",
       "        vertical-align: middle;\n",
       "    }\n",
       "\n",
       "    .dataframe tbody tr th {\n",
       "        vertical-align: top;\n",
       "    }\n",
       "\n",
       "    .dataframe thead th {\n",
       "        text-align: right;\n",
       "    }\n",
       "</style>\n",
       "<table border=\"1\" class=\"dataframe\">\n",
       "  <thead>\n",
       "    <tr style=\"text-align: right;\">\n",
       "      <th></th>\n",
       "      <th>Rank</th>\n",
       "      <th>Name</th>\n",
       "      <th>Industry</th>\n",
       "      <th>Revenue (USD millions)</th>\n",
       "      <th>Revenue growth</th>\n",
       "      <th>Employees</th>\n",
       "      <th>Headquarters</th>\n",
       "    </tr>\n",
       "  </thead>\n",
       "  <tbody>\n",
       "    <tr>\n",
       "      <th>0</th>\n",
       "      <td>1</td>\n",
       "      <td>Walmart</td>\n",
       "      <td>Retail</td>\n",
       "      <td>648,125</td>\n",
       "      <td>6.0%</td>\n",
       "      <td>2,100,000</td>\n",
       "      <td>Bentonville, Arkansas</td>\n",
       "    </tr>\n",
       "    <tr>\n",
       "      <th>1</th>\n",
       "      <td>2</td>\n",
       "      <td>Amazon</td>\n",
       "      <td>Retail and cloud computing</td>\n",
       "      <td>574,785</td>\n",
       "      <td>11.9%</td>\n",
       "      <td>1,525,000</td>\n",
       "      <td>Seattle, Washington</td>\n",
       "    </tr>\n",
       "    <tr>\n",
       "      <th>2</th>\n",
       "      <td>3</td>\n",
       "      <td>Apple</td>\n",
       "      <td>Electronics industry</td>\n",
       "      <td>383,482</td>\n",
       "      <td>-2.8%</td>\n",
       "      <td>161,000</td>\n",
       "      <td>Cupertino, California</td>\n",
       "    </tr>\n",
       "    <tr>\n",
       "      <th>3</th>\n",
       "      <td>4</td>\n",
       "      <td>UnitedHealth Group</td>\n",
       "      <td>Healthcare</td>\n",
       "      <td>371,622</td>\n",
       "      <td>14.6%</td>\n",
       "      <td>440,000</td>\n",
       "      <td>Minnetonka, Minnesota</td>\n",
       "    </tr>\n",
       "    <tr>\n",
       "      <th>4</th>\n",
       "      <td>5</td>\n",
       "      <td>Berkshire Hathaway</td>\n",
       "      <td>Conglomerate</td>\n",
       "      <td>364,482</td>\n",
       "      <td>20.7%</td>\n",
       "      <td>396,500</td>\n",
       "      <td>Omaha, Nebraska</td>\n",
       "    </tr>\n",
       "  </tbody>\n",
       "</table>\n",
       "</div>"
      ],
      "text/plain": [
       "  Rank                Name                    Industry Revenue (USD millions)  \\\n",
       "0    1             Walmart                      Retail                648,125   \n",
       "1    2              Amazon  Retail and cloud computing                574,785   \n",
       "2    3               Apple        Electronics industry                383,482   \n",
       "3    4  UnitedHealth Group                  Healthcare                371,622   \n",
       "4    5  Berkshire Hathaway                Conglomerate                364,482   \n",
       "\n",
       "  Revenue growth  Employees           Headquarters  \n",
       "0           6.0%  2,100,000  Bentonville, Arkansas  \n",
       "1          11.9%  1,525,000    Seattle, Washington  \n",
       "2          -2.8%    161,000  Cupertino, California  \n",
       "3          14.6%    440,000  Minnetonka, Minnesota  \n",
       "4          20.7%    396,500        Omaha, Nebraska  "
      ]
     },
     "execution_count": 342,
     "metadata": {},
     "output_type": "execute_result"
    }
   ],
   "source": [
    "df.head()"
   ]
  },
  {
   "cell_type": "markdown",
   "id": "4048c088-7339-499a-8648-0dc9fccb2e20",
   "metadata": {},
   "source": [
    "Anschließend kann ich das DataFrame lokal auf meinem Computer speichern. Dabei möchte ich den Index des DataFrames nicht in die CSV-Datei übernehmen, weswegen ich noch die Anmerkung \"index = False\" hinzufüge"
   ]
  },
  {
   "cell_type": "code",
   "execution_count": 328,
   "id": "56a360cb-2a20-4ad8-baa8-298268b1c17d",
   "metadata": {},
   "outputs": [],
   "source": [
    "df.to_csv(r\"C:\\Users\\denni\\Desktop\\Data_Science_Projects\\Python_Projects\\Web_Scraping_Unternehmen\\Unternehmen.csv\", index = False)"
   ]
  },
  {
   "cell_type": "code",
   "execution_count": null,
   "id": "a3b9c37e-9042-4d0f-ae70-364d7341ad89",
   "metadata": {},
   "outputs": [],
   "source": []
  }
 ],
 "metadata": {
  "kernelspec": {
   "display_name": "Python 3 (ipykernel)",
   "language": "python",
   "name": "python3"
  },
  "language_info": {
   "codemirror_mode": {
    "name": "ipython",
    "version": 3
   },
   "file_extension": ".py",
   "mimetype": "text/x-python",
   "name": "python",
   "nbconvert_exporter": "python",
   "pygments_lexer": "ipython3",
   "version": "3.12.4"
  }
 },
 "nbformat": 4,
 "nbformat_minor": 5
}
